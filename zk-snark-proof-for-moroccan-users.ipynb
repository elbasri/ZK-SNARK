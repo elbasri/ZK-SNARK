{
 "cells": [
  {
   "cell_type": "code",
   "execution_count": 1,
   "id": "42177bca",
   "metadata": {
    "execution": {
     "iopub.execute_input": "2024-12-07T08:16:02.799727Z",
     "iopub.status.busy": "2024-12-07T08:16:02.799346Z",
     "iopub.status.idle": "2024-12-07T08:16:15.469608Z",
     "shell.execute_reply": "2024-12-07T08:16:15.468417Z"
    },
    "papermill": {
     "duration": 12.678651,
     "end_time": "2024-12-07T08:16:15.471987",
     "exception": false,
     "start_time": "2024-12-07T08:16:02.793336",
     "status": "completed"
    },
    "tags": []
   },
   "outputs": [
    {
     "name": "stdout",
     "output_type": "stream",
     "text": [
      "Collecting z3-solver\r\n",
      "  Downloading z3_solver-4.13.3.0-py3-none-manylinux_2_17_x86_64.manylinux2014_x86_64.whl.metadata (602 bytes)\r\n",
      "Downloading z3_solver-4.13.3.0-py3-none-manylinux_2_17_x86_64.manylinux2014_x86_64.whl (28.1 MB)\r\n",
      "\u001b[2K   \u001b[90m━━━━━━━━━━━━━━━━━━━━━━━━━━━━━━━━━━━━━━━━\u001b[0m \u001b[32m28.1/28.1 MB\u001b[0m \u001b[31m55.6 MB/s\u001b[0m eta \u001b[36m0:00:00\u001b[0m\r\n",
      "\u001b[?25hInstalling collected packages: z3-solver\r\n",
      "Successfully installed z3-solver-4.13.3.0\r\n"
     ]
    }
   ],
   "source": [
    "!pip install z3-solver"
   ]
  },
  {
   "cell_type": "code",
   "execution_count": 2,
   "id": "539c3168",
   "metadata": {
    "_cell_guid": "b1076dfc-b9ad-4769-8c92-a6c4dae69d19",
    "_uuid": "8f2839f25d086af736a60e9eeb907d3b93b6e0e5",
    "execution": {
     "iopub.execute_input": "2024-12-07T08:16:15.483106Z",
     "iopub.status.busy": "2024-12-07T08:16:15.482363Z",
     "iopub.status.idle": "2024-12-07T08:16:29.208515Z",
     "shell.execute_reply": "2024-12-07T08:16:29.207415Z"
    },
    "papermill": {
     "duration": 13.734303,
     "end_time": "2024-12-07T08:16:29.211065",
     "exception": false,
     "start_time": "2024-12-07T08:16:15.476762",
     "status": "completed"
    },
    "tags": []
   },
   "outputs": [],
   "source": [
    "import pandas as pd\n",
    "import numpy as np\n",
    "import tensorflow as tf\n",
    "from z3 import *"
   ]
  },
  {
   "cell_type": "markdown",
   "id": "4a454693",
   "metadata": {
    "papermill": {
     "duration": 0.004206,
     "end_time": "2024-12-07T08:16:29.219874",
     "exception": false,
     "start_time": "2024-12-07T08:16:29.215668",
     "status": "completed"
    },
    "tags": []
   },
   "source": [
    "# 1. قراءة البيانات"
   ]
  },
  {
   "cell_type": "code",
   "execution_count": 3,
   "id": "554fe393",
   "metadata": {
    "execution": {
     "iopub.execute_input": "2024-12-07T08:16:29.231476Z",
     "iopub.status.busy": "2024-12-07T08:16:29.230874Z",
     "iopub.status.idle": "2024-12-07T08:16:29.251434Z",
     "shell.execute_reply": "2024-12-07T08:16:29.250573Z"
    },
    "papermill": {
     "duration": 0.028291,
     "end_time": "2024-12-07T08:16:29.253573",
     "exception": false,
     "start_time": "2024-12-07T08:16:29.225282",
     "status": "completed"
    },
    "tags": []
   },
   "outputs": [],
   "source": [
    "data = pd.read_csv(\"/kaggle/input/mu-moroccan-users/moroccan_users.csv\") \n",
    "# القاعدة متاحة على :\n",
    "# https://www.kaggle.com/datasets/nacernacer/mu-moroccan-users\n",
    "\n",
    "names = data[\"Name\"]\n",
    "ages = data[\"Age\"]"
   ]
  },
  {
   "cell_type": "markdown",
   "id": "6b0a52d2",
   "metadata": {
    "papermill": {
     "duration": 0.004375,
     "end_time": "2024-12-07T08:16:29.262616",
     "exception": false,
     "start_time": "2024-12-07T08:16:29.258241",
     "status": "completed"
    },
    "tags": []
   },
   "source": [
    "# 2. تجهيز البيانات\n"
   ]
  },
  {
   "cell_type": "code",
   "execution_count": 4,
   "id": "2f9266d9",
   "metadata": {
    "execution": {
     "iopub.execute_input": "2024-12-07T08:16:29.272685Z",
     "iopub.status.busy": "2024-12-07T08:16:29.272309Z",
     "iopub.status.idle": "2024-12-07T08:16:29.278361Z",
     "shell.execute_reply": "2024-12-07T08:16:29.277266Z"
    },
    "papermill": {
     "duration": 0.01347,
     "end_time": "2024-12-07T08:16:29.280395",
     "exception": false,
     "start_time": "2024-12-07T08:16:29.266925",
     "status": "completed"
    },
    "tags": []
   },
   "outputs": [],
   "source": [
    "# 0: أقل من 25، 1: أكبر أو يساوي 25\n",
    "labels = [0 if age < 25 else 1 for age in ages]\n",
    "inputs = np.array(ages, dtype=np.float32).reshape(-1, 1)\n",
    "outputs = np.array(labels, dtype=np.float32)"
   ]
  },
  {
   "cell_type": "markdown",
   "id": "55538f6a",
   "metadata": {
    "papermill": {
     "duration": 0.004093,
     "end_time": "2024-12-07T08:16:29.288928",
     "exception": false,
     "start_time": "2024-12-07T08:16:29.284835",
     "status": "completed"
    },
    "tags": []
   },
   "source": [
    "# 3. بناء نموذج تنسرفلو"
   ]
  },
  {
   "cell_type": "code",
   "execution_count": 5,
   "id": "2175de82",
   "metadata": {
    "execution": {
     "iopub.execute_input": "2024-12-07T08:16:29.299331Z",
     "iopub.status.busy": "2024-12-07T08:16:29.298954Z",
     "iopub.status.idle": "2024-12-07T08:16:29.424098Z",
     "shell.execute_reply": "2024-12-07T08:16:29.423117Z"
    },
    "papermill": {
     "duration": 0.133159,
     "end_time": "2024-12-07T08:16:29.426280",
     "exception": false,
     "start_time": "2024-12-07T08:16:29.293121",
     "status": "completed"
    },
    "tags": []
   },
   "outputs": [
    {
     "name": "stderr",
     "output_type": "stream",
     "text": [
      "/opt/conda/lib/python3.10/site-packages/keras/src/layers/core/dense.py:87: UserWarning: Do not pass an `input_shape`/`input_dim` argument to a layer. When using Sequential models, prefer using an `Input(shape)` object as the first layer in the model instead.\n",
      "  super().__init__(activity_regularizer=activity_regularizer, **kwargs)\n"
     ]
    }
   ],
   "source": [
    "model = tf.keras.Sequential([\n",
    "    tf.keras.layers.Dense(1, activation='sigmoid', input_shape=(1,))\n",
    "])"
   ]
  },
  {
   "cell_type": "markdown",
   "id": "baf7df49",
   "metadata": {
    "papermill": {
     "duration": 0.004283,
     "end_time": "2024-12-07T08:16:29.435484",
     "exception": false,
     "start_time": "2024-12-07T08:16:29.431201",
     "status": "completed"
    },
    "tags": []
   },
   "source": [
    "# تجميع النموذج"
   ]
  },
  {
   "cell_type": "code",
   "execution_count": 6,
   "id": "0059a879",
   "metadata": {
    "execution": {
     "iopub.execute_input": "2024-12-07T08:16:29.446190Z",
     "iopub.status.busy": "2024-12-07T08:16:29.445825Z",
     "iopub.status.idle": "2024-12-07T08:16:29.459708Z",
     "shell.execute_reply": "2024-12-07T08:16:29.458740Z"
    },
    "papermill": {
     "duration": 0.021733,
     "end_time": "2024-12-07T08:16:29.461864",
     "exception": false,
     "start_time": "2024-12-07T08:16:29.440131",
     "status": "completed"
    },
    "tags": []
   },
   "outputs": [],
   "source": [
    "model.compile(optimizer='adam', loss='binary_crossentropy', metrics=['accuracy'])"
   ]
  },
  {
   "cell_type": "markdown",
   "id": "4c2a6664",
   "metadata": {
    "papermill": {
     "duration": 0.004198,
     "end_time": "2024-12-07T08:16:29.470608",
     "exception": false,
     "start_time": "2024-12-07T08:16:29.466410",
     "status": "completed"
    },
    "tags": []
   },
   "source": [
    "# 4. تدريب النموذج"
   ]
  },
  {
   "cell_type": "code",
   "execution_count": 7,
   "id": "bfb97d45",
   "metadata": {
    "execution": {
     "iopub.execute_input": "2024-12-07T08:16:29.481234Z",
     "iopub.status.busy": "2024-12-07T08:16:29.480615Z",
     "iopub.status.idle": "2024-12-07T08:16:31.350567Z",
     "shell.execute_reply": "2024-12-07T08:16:31.349394Z"
    },
    "papermill": {
     "duration": 1.877828,
     "end_time": "2024-12-07T08:16:31.352762",
     "exception": false,
     "start_time": "2024-12-07T08:16:29.474934",
     "status": "completed"
    },
    "tags": []
   },
   "outputs": [
    {
     "data": {
      "text/plain": [
       "<keras.src.callbacks.history.History at 0x7eebfe2f3b50>"
      ]
     },
     "execution_count": 7,
     "metadata": {},
     "output_type": "execute_result"
    }
   ],
   "source": [
    "model.fit(inputs, outputs, epochs=50, verbose=0)"
   ]
  },
  {
   "cell_type": "markdown",
   "id": "d0b22fb5",
   "metadata": {
    "papermill": {
     "duration": 0.004378,
     "end_time": "2024-12-07T08:16:31.361795",
     "exception": false,
     "start_time": "2024-12-07T08:16:31.357417",
     "status": "completed"
    },
    "tags": []
   },
   "source": [
    "# 5. تقييم النموذج"
   ]
  },
  {
   "cell_type": "code",
   "execution_count": 8,
   "id": "64bd0c1f",
   "metadata": {
    "execution": {
     "iopub.execute_input": "2024-12-07T08:16:31.372268Z",
     "iopub.status.busy": "2024-12-07T08:16:31.371920Z",
     "iopub.status.idle": "2024-12-07T08:16:31.539484Z",
     "shell.execute_reply": "2024-12-07T08:16:31.538156Z"
    },
    "papermill": {
     "duration": 0.17551,
     "end_time": "2024-12-07T08:16:31.541720",
     "exception": false,
     "start_time": "2024-12-07T08:16:31.366210",
     "status": "completed"
    },
    "tags": []
   },
   "outputs": [
    {
     "name": "stdout",
     "output_type": "stream",
     "text": [
      "دقة النموذج: 0.66\n"
     ]
    }
   ],
   "source": [
    "loss, accuracy = model.evaluate(inputs, outputs, verbose=0)\n",
    "print(f\"دقة النموذج: {accuracy:.2f}\")"
   ]
  },
  {
   "cell_type": "markdown",
   "id": "d2a00315",
   "metadata": {
    "papermill": {
     "duration": 0.005408,
     "end_time": "2024-12-07T08:16:31.552103",
     "exception": false,
     "start_time": "2024-12-07T08:16:31.546695",
     "status": "completed"
    },
    "tags": []
   },
   "source": [
    "# 6. تخمين الفئات"
   ]
  },
  {
   "cell_type": "code",
   "execution_count": 9,
   "id": "0c7e495e",
   "metadata": {
    "execution": {
     "iopub.execute_input": "2024-12-07T08:16:31.562959Z",
     "iopub.status.busy": "2024-12-07T08:16:31.562598Z",
     "iopub.status.idle": "2024-12-07T08:16:31.673929Z",
     "shell.execute_reply": "2024-12-07T08:16:31.672900Z"
    },
    "papermill": {
     "duration": 0.119584,
     "end_time": "2024-12-07T08:16:31.676264",
     "exception": false,
     "start_time": "2024-12-07T08:16:31.556680",
     "status": "completed"
    },
    "tags": []
   },
   "outputs": [
    {
     "name": "stdout",
     "output_type": "stream",
     "text": [
      "\u001b[1m2/2\u001b[0m \u001b[32m━━━━━━━━━━━━━━━━━━━━\u001b[0m\u001b[37m\u001b[0m \u001b[1m0s\u001b[0m 18ms/step\n"
     ]
    }
   ],
   "source": [
    "predictions = model.predict(inputs)\n",
    "predicted_labels = (predictions > 0.5).astype(int).flatten()"
   ]
  },
  {
   "cell_type": "markdown",
   "id": "c3b4a5f9",
   "metadata": {
    "papermill": {
     "duration": 0.004555,
     "end_time": "2024-12-07T08:16:31.685962",
     "exception": false,
     "start_time": "2024-12-07T08:16:31.681407",
     "status": "completed"
    },
    "tags": []
   },
   "source": [
    "# 7. إثبات ZK-SNARK"
   ]
  },
  {
   "cell_type": "code",
   "execution_count": 10,
   "id": "e902e186",
   "metadata": {
    "execution": {
     "iopub.execute_input": "2024-12-07T08:16:31.696941Z",
     "iopub.status.busy": "2024-12-07T08:16:31.696576Z",
     "iopub.status.idle": "2024-12-07T08:16:31.702268Z",
     "shell.execute_reply": "2024-12-07T08:16:31.701402Z"
    },
    "papermill": {
     "duration": 0.013659,
     "end_time": "2024-12-07T08:16:31.704250",
     "exception": false,
     "start_time": "2024-12-07T08:16:31.690591",
     "status": "completed"
    },
    "tags": []
   },
   "outputs": [],
   "source": [
    "# إثبات ZK-SNARK باستخدام Z3 solver\n",
    "def zk_snark_proof(predicted, actual):\n",
    "    # إنشاء إثبات أن التنبؤات تطابق النتائج الفعلية باستخدام طريقة SAT (Satisfiability).\n",
    "    solver = Solver()\n",
    "    \n",
    "    # إضافة القيود\n",
    "    for pred, act in zip(predicted, actual):\n",
    "        # إضافة قيد: إذا كانت النتيجة المتوقعة = النتيجة الفعلية\n",
    "        solver.add(pred == act)  # قيد راضي إذا كانت النتائج متطابقة\n",
    "\n",
    "    # التحقق من الإثبات\n",
    "    result = solver.check()\n",
    "    return result == sat"
   ]
  },
  {
   "cell_type": "markdown",
   "id": "b1084755",
   "metadata": {
    "papermill": {
     "duration": 0.004583,
     "end_time": "2024-12-07T08:16:31.713589",
     "exception": false,
     "start_time": "2024-12-07T08:16:31.709006",
     "status": "completed"
    },
    "tags": []
   },
   "source": [
    "# مثال للاستخدام"
   ]
  },
  {
   "cell_type": "code",
   "execution_count": 11,
   "id": "2e2a4061",
   "metadata": {
    "execution": {
     "iopub.execute_input": "2024-12-07T08:16:31.726528Z",
     "iopub.status.busy": "2024-12-07T08:16:31.726145Z",
     "iopub.status.idle": "2024-12-07T08:16:31.752888Z",
     "shell.execute_reply": "2024-12-07T08:16:31.751706Z"
    },
    "papermill": {
     "duration": 0.036836,
     "end_time": "2024-12-07T08:16:31.755100",
     "exception": false,
     "start_time": "2024-12-07T08:16:31.718264",
     "status": "completed"
    },
    "tags": []
   },
   "outputs": [
    {
     "name": "stdout",
     "output_type": "stream",
     "text": [
      "هل التنبؤات تطابق النتائج الفعلية؟ نعم\n"
     ]
    }
   ],
   "source": [
    "# التنبؤات من النموذج\n",
    "predicted_labels = [Int('x1'), Int('x2')]\n",
    "# النتائج الفعلية\n",
    "labels = [1, 2]  # النتائج الفعلية، يمكنك تعديلها بما يتناسب مع بياناتك\n",
    "\n",
    "# إنشاء الإثبات\n",
    "proof_valid = zk_snark_proof(predicted_labels, labels)\n",
    "\n",
    "# عرض النتيجة\n",
    "print(f\"هل التنبؤات تطابق النتائج الفعلية؟ {'نعم' if proof_valid else 'لا'}\")"
   ]
  }
 ],
 "metadata": {
  "kaggle": {
   "accelerator": "none",
   "dataSources": [
    {
     "datasetId": 6249035,
     "sourceId": 10126463,
     "sourceType": "datasetVersion"
    }
   ],
   "dockerImageVersionId": 30804,
   "isGpuEnabled": false,
   "isInternetEnabled": true,
   "language": "python",
   "sourceType": "notebook"
  },
  "kernelspec": {
   "display_name": "Python 3",
   "language": "python",
   "name": "python3"
  },
  "language_info": {
   "codemirror_mode": {
    "name": "ipython",
    "version": 3
   },
   "file_extension": ".py",
   "mimetype": "text/x-python",
   "name": "python",
   "nbconvert_exporter": "python",
   "pygments_lexer": "ipython3",
   "version": "3.10.14"
  },
  "papermill": {
   "default_parameters": {},
   "duration": 32.988167,
   "end_time": "2024-12-07T08:16:33.186251",
   "environment_variables": {},
   "exception": null,
   "input_path": "__notebook__.ipynb",
   "output_path": "__notebook__.ipynb",
   "parameters": {},
   "start_time": "2024-12-07T08:16:00.198084",
   "version": "2.6.0"
  }
 },
 "nbformat": 4,
 "nbformat_minor": 5
}
